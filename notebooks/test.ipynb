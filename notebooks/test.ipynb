{
 "cells": [
  {
   "cell_type": "code",
   "execution_count": 4,
   "metadata": {},
   "outputs": [
    {
     "data": {
      "text/latex": [
       "$\\beta =\\frac{r_{stockRateOfReturn} - r_\\$}{r_{marketRateOfReturn}-r_\\$}$"
      ],
      "text/plain": [
       "<IPython.core.display.Latex object>"
      ]
     },
     "metadata": {},
     "output_type": "display_data"
    },
    {
     "ename": "TypeError",
     "evalue": "'str' object is not callable",
     "output_type": "error",
     "traceback": [
      "\u001b[1;31m---------------------------------------------------------------------------\u001b[0m",
      "\u001b[1;31mTypeError\u001b[0m                                 Traceback (most recent call last)",
      "Cell \u001b[1;32mIn[4], line 4\u001b[0m\n\u001b[0;32m      1\u001b[0m \u001b[39mfrom\u001b[39;00m \u001b[39msrc\u001b[39;00m\u001b[39m.\u001b[39;00m\u001b[39mformula\u001b[39;00m \u001b[39mimport\u001b[39;00m \u001b[39m*\u001b[39m\n\u001b[0;32m      3\u001b[0m show_formula(Beta)\n\u001b[1;32m----> 4\u001b[0m Beta\u001b[39m.\u001b[39;49mdescription()\n",
      "File \u001b[1;32mc:\\projects\\python\\stockCalculator\\src\\formula.py:25\u001b[0m, in \u001b[0;36mFormelSymbol.description\u001b[1;34m()\u001b[0m\n\u001b[0;32m     24\u001b[0m \u001b[39mdef\u001b[39;00m \u001b[39mdescription\u001b[39m():\n\u001b[1;32m---> 25\u001b[0m     \u001b[39mreturn\u001b[39;00m \u001b[39mf\u001b[39m\u001b[39m\"\u001b[39m\u001b[39m$\u001b[39m\u001b[39m{\u001b[39;00m\u001b[39m__class__\u001b[39;49m\u001b[39m.\u001b[39;49msymbol()\u001b[39m}\u001b[39;00m\u001b[39m$ = \u001b[39m\u001b[39m{\u001b[39;00m\u001b[39m__class__\u001b[39m\u001b[39m.\u001b[39mdescription\u001b[39m}\u001b[39;00m\u001b[39m\"\u001b[39m\n",
      "\u001b[1;31mTypeError\u001b[0m: 'str' object is not callable"
     ]
    }
   ],
   "source": [
    "from src.formula import *\n",
    "\n",
    "show_formula(Beta)\n",
    "Beta.description()"
   ]
  },
  {
   "cell_type": "code",
   "execution_count": 2,
   "metadata": {},
   "outputs": [
    {
     "data": {
      "text/latex": [
       "$m_x$ = Masse von x"
      ],
      "text/plain": [
       "<IPython.core.display.Latex object>"
      ]
     },
     "metadata": {},
     "output_type": "display_data"
    }
   ],
   "source": [
    "from IPython.display import Latex\n",
    "\n",
    "display(Latex('$m_x$ = Masse von x'))"
   ]
  },
  {
   "cell_type": "code",
   "execution_count": 12,
   "metadata": {},
   "outputs": [
    {
     "name": "stdout",
     "output_type": "stream",
     "text": [
      "sometext\n"
     ]
    }
   ],
   "source": [
    "class A:\n",
    "    desc = \"sometext\"\n",
    "    \n",
    "    def get_desc():\n",
    "        return __class__.desc\n",
    "    \n",
    "class B(A):\n",
    "    desc =\"someB\"\n",
    "    \n",
    "    \n",
    "print(B.get_desc())"
   ]
  },
  {
   "cell_type": "code",
   "execution_count": 4,
   "metadata": {},
   "outputs": [
    {
     "name": "stdout",
     "output_type": "stream",
     "text": [
      "b''\n"
     ]
    }
   ],
   "source": [
    "import requests\n",
    "from bs4 import BeautifulSoup\n",
    "\n",
    "url = 'https://tradingeconomics.com/germany/5-year-note-yield'\n",
    "# search for var TESymbol = 'GERMANY5YNY';\n",
    "d_type = 'json'\n",
    "TESymbol = 'GERMANY5YNY'\n",
    "redirect_url = 'https://data.tradingeconomics.com/Data/Export?term=' + TESymbol\n",
    "\n",
    "\n",
    "headers = {\n",
    "            \"User-Agent\": \"Mozilla/5.0 (Windows NT 10.0; Win64; x64; rv:109.0) Gecko/20100101 Firefox/110.0\"\n",
    "}\n",
    "data = {\n",
    "    \"dataType\": d_type,\n",
    "    \"xhrFields\": {\n",
    "        \"withCredentials\": True\n",
    "    },\n",
    "    \n",
    "}\n",
    "\n",
    "resp = requests.get(url=redirect_url, params=data, headers=headers)\n",
    "print(resp.raw.read())"
   ]
  },
  {
   "cell_type": "code",
   "execution_count": 8,
   "metadata": {},
   "outputs": [],
   "source": [
    "import json\n",
    "import csv\n",
    "\n",
    "with open('./../Germany 5 Year Bobl Yield_5years_weekly.json') as f:\n",
    "    data = json.load(f)\n",
    "csvfile = open(\"Germany 5 Year Bobl Yield_5years_weekly.csv\", \"w\", newline=\"\")\n",
    "writer = csv.writer(csvfile, delimiter=\";\", quoting=csv.QUOTE_ALL)\n",
    "writer.writerow(['date', 'x', 'y', 'percentChange', 'change'])\n",
    "for row in data:\n",
    "    writer.writerow([row['date'], row['x'], row['y'], row['percentChange'], row['change']])\n",
    "csvfile.close()"
   ]
  }
 ],
 "metadata": {
  "kernelspec": {
   "display_name": "Python 3 (ipykernel)",
   "language": "python",
   "name": "python3"
  },
  "language_info": {
   "codemirror_mode": {
    "name": "ipython",
    "version": 3
   },
   "file_extension": ".py",
   "mimetype": "text/x-python",
   "name": "python",
   "nbconvert_exporter": "python",
   "pygments_lexer": "ipython3",
   "version": "3.11.3"
  }
 },
 "nbformat": 4,
 "nbformat_minor": 2
}
